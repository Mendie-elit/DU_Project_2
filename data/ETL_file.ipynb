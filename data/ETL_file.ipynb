{
 "cells": [
  {
   "cell_type": "markdown",
   "metadata": {
    "slideshow": {
     "slide_type": "slide"
    }
   },
   "source": [
    "## Import Dependencies"
   ]
  },
  {
   "cell_type": "code",
   "execution_count": 75,
   "metadata": {
    "slideshow": {
     "slide_type": "slide"
    }
   },
   "outputs": [
    {
     "data": {
      "text/plain": [
       "'C:\\\\Users\\\\mendi\\\\Documents\\\\Bootcamp HW_MLE\\\\Project-2\\\\database'"
      ]
     },
     "execution_count": 75,
     "metadata": {},
     "output_type": "execute_result"
    }
   ],
   "source": [
    "import pandas as pd\n",
    "from sqlalchemy import create_engine\n",
    "from sqlalchemy.engine.url import URL\n",
    "import requests\n",
    "import os\n",
    "os.getcwd()"
   ]
  },
  {
   "cell_type": "markdown",
   "metadata": {
    "slideshow": {
     "slide_type": "slide"
    }
   },
   "source": [
    "\n",
    "### Extract CSV file into Dataframe"
   ]
  },
  {
   "cell_type": "code",
   "execution_count": 76,
   "metadata": {
    "slideshow": {
     "slide_type": "subslide"
    }
   },
   "outputs": [
    {
     "data": {
      "text/html": [
       "<div>\n",
       "<style scoped>\n",
       "    .dataframe tbody tr th:only-of-type {\n",
       "        vertical-align: middle;\n",
       "    }\n",
       "\n",
       "    .dataframe tbody tr th {\n",
       "        vertical-align: top;\n",
       "    }\n",
       "\n",
       "    .dataframe thead th {\n",
       "        text-align: right;\n",
       "    }\n",
       "</style>\n",
       "<table border=\"1\" class=\"dataframe\">\n",
       "  <thead>\n",
       "    <tr style=\"text-align: right;\">\n",
       "      <th></th>\n",
       "      <th>CASEID_NEW</th>\n",
       "      <th>time_from_met_to_rel</th>\n",
       "      <th>time_from_rel_to_cohab</th>\n",
       "      <th>w6_q21a_year</th>\n",
       "    </tr>\n",
       "  </thead>\n",
       "  <tbody>\n",
       "    <tr>\n",
       "      <th>2908</th>\n",
       "      <td>2089133</td>\n",
       "      <td>NaN</td>\n",
       "      <td>NaN</td>\n",
       "      <td>NaN</td>\n",
       "    </tr>\n",
       "    <tr>\n",
       "      <th>2417</th>\n",
       "      <td>1532255</td>\n",
       "      <td>0.166748</td>\n",
       "      <td>0.250000</td>\n",
       "      <td>1998.0</td>\n",
       "    </tr>\n",
       "    <tr>\n",
       "      <th>3221</th>\n",
       "      <td>2027307</td>\n",
       "      <td>18.250000</td>\n",
       "      <td>6.083374</td>\n",
       "      <td>1989.0</td>\n",
       "    </tr>\n",
       "    <tr>\n",
       "      <th>2515</th>\n",
       "      <td>2428725</td>\n",
       "      <td>0.000000</td>\n",
       "      <td>0.250000</td>\n",
       "      <td>1999.0</td>\n",
       "    </tr>\n",
       "    <tr>\n",
       "      <th>3212</th>\n",
       "      <td>2797851</td>\n",
       "      <td>7.833374</td>\n",
       "      <td>NaN</td>\n",
       "      <td>1998.0</td>\n",
       "    </tr>\n",
       "  </tbody>\n",
       "</table>\n",
       "</div>"
      ],
      "text/plain": [
       "      CASEID_NEW  time_from_met_to_rel  time_from_rel_to_cohab  w6_q21a_year\n",
       "2908     2089133                   NaN                     NaN           NaN\n",
       "2417     1532255              0.166748                0.250000        1998.0\n",
       "3221     2027307             18.250000                6.083374        1989.0\n",
       "2515     2428725              0.000000                0.250000        1999.0\n",
       "3212     2797851              7.833374                     NaN        1998.0"
      ]
     },
     "execution_count": 76,
     "metadata": {},
     "output_type": "execute_result"
    }
   ],
   "source": [
    "# Relationship Data file\n",
    "\n",
    "# relationship_data = \"../Project-2/relationship_data_file.csv\"\n",
    "relationship_data = \"../data/relationship_data_file.csv\"\n",
    "relationship_data_df = pd.read_csv(relationship_data)\n",
    "\n",
    "relationship_data_df_sample = relationship_data_df.sample(n = 250)\n",
    "# relationship_data_df_sample.head(200)\n",
    "# relationship_data_df_sample.count()\n",
    "\n",
    "# relationship_data_df.dtypes\n",
    "\n",
    "relationship_data_df_sample[['CASEID_NEW', 'time_from_met_to_rel', 'time_from_rel_to_cohab', 'w6_q21a_year']].head()\n"
   ]
  },
  {
   "cell_type": "code",
   "execution_count": 77,
   "metadata": {},
   "outputs": [
    {
     "name": "stderr",
     "output_type": "stream",
     "text": [
      "C:\\Users\\mendi\\Anaconda3\\lib\\site-packages\\ipykernel_launcher.py:3: SettingWithCopyWarning: \n",
      "A value is trying to be set on a copy of a slice from a DataFrame.\n",
      "Try using .loc[row_indexer,col_indexer] = value instead\n",
      "\n",
      "See the caveats in the documentation: http://pandas.pydata.org/pandas-docs/stable/indexing.html#indexing-view-versus-copy\n",
      "  This is separate from the ipykernel package so we can avoid doing imports until\n"
     ]
    }
   ],
   "source": [
    "\n",
    "wide_df = relationship_data_df_sample[['CASEID_NEW','time_from_met_to_rel', 'time_from_rel_to_cohab', 'w6_q21a_year']]\n",
    "wide_df['time_married_hardcoded'] = -8.25\n",
    "tall_df = wide_df.dropna().melt(('CASEID_NEW', 'w6_q21a_year'))\n",
    "\n",
    "\n",
    "tall_df = tall_df.rename(columns={\"CASEID_NEW\":\"pid\", \"variable\":\"grp\", \"value\":\"duration\"})\n",
    "tall_df .sort_values('pid')#variable')\n",
    "# tall_df.head()\n",
    "tall_df\n",
    "tall_df.set_index(\"pid\", inplace=True)\n"
   ]
  },
  {
   "cell_type": "markdown",
   "metadata": {},
   "source": [
    "### Transform Dataframes"
   ]
  },
  {
   "cell_type": "code",
   "execution_count": 66,
   "metadata": {},
   "outputs": [],
   "source": [
    "# Create a filtered dataframe from specific columns for relationship data, noted data from different versions of surveys.\n",
    "# Based on analysis of data it appears data with column prefix w6_ is most relevant\n",
    "\n",
    "# relationship_data_cols = [\"CASEID_NEW\", \n",
    "#                           \"w6_q21a_year\", \n",
    "#                           \"w6_relationship_end_nonmar\", \n",
    "#                           \"w6_breakup_nonmar\", \n",
    "#                           \"w6_relationship_end_mar\", \n",
    "#                           \"w6_who_breakup\",\n",
    "#                           \"ppagecat\",\n",
    "#                           \"ppagect4\",\n",
    "#                           \"ppmarit\",\n",
    "#                           \"w6_q19\",\n",
    "#                           \"w6_q20\",\n",
    "#                           \"w6_q21a_month\",\n",
    "#                           \"w6_q21b_month\",\n",
    "#                           \"w6_q21c_month\",\n",
    "#                           \"w6_q21d_month\", \n",
    "#                           \"w6_q21e_month\",\n",
    "#                           \"w6_q21f_month\",\n",
    "#                           \"partnership_status\",\n",
    "#                           \"w6_relationship_quality\",\n",
    "#                           \"ppage\",\n",
    "#                           \"w6_q9\",\n",
    "#                           \"w6_q17\",\n",
    "#                           \"w6_q21b_year\",\n",
    "#                           \"w6_q21c_year\",\n",
    "#                           \"w6_q21d_year\",\n",
    "#                           \"w6_q21e_year\",\n",
    "#                           \"w6_q21f_year\",\n",
    "#                           \"year_fraction_met\",\n",
    "#                           \"year_fraction_relstart\",\n",
    "#                           \"age_when_met\",\n",
    "#                           \"time_from_met_to_rel\",\n",
    "#                           \"year_fraction_first_cohab\",\n",
    "#                           \"time_from_rel_to_cohab\"]                        \n",
    "# relat_data_transformed = relationship_data_df[relationship_data_cols].copy()\n",
    "\n",
    "\n",
    "\n",
    "# # Clean the data by dropping duplicates and setting the index\n",
    "# # premise_transformed.drop_duplicates(\"id\", inplace=True)\n",
    "# relat_data_transformed.set_index(\"CASEID_NEW\", inplace=True)\n",
    "\n",
    "# relat_data_transformed.head()"
   ]
  },
  {
   "cell_type": "markdown",
   "metadata": {},
   "source": [
    "## Analytics"
   ]
  },
  {
   "cell_type": "markdown",
   "metadata": {},
   "source": [
    "## Create database connection"
   ]
  },
  {
   "cell_type": "code",
   "execution_count": 78,
   "metadata": {},
   "outputs": [],
   "source": [
    "# Need to add password to access the database\n",
    "\n",
    "\n",
    "db_url = {\n",
    "   'database': 'relationship_data_db',\n",
    "   'drivername': 'mysql',\n",
    "   'username': 'root',\n",
    "   'password': '1Lovemykid$',\n",
    "   'host': '127.0.0.1',\n",
    "   'query': {'charset': 'utf8'},  # the key-point setting\n",
    "}\n",
    "\n",
    "engine = create_engine(URL(**db_url), encoding='utf8')"
   ]
  },
  {
   "cell_type": "code",
   "execution_count": 79,
   "metadata": {},
   "outputs": [],
   "source": [
    "tall_df.to_sql(name='relationship_data', con=engine, if_exists='append', index=True)"
   ]
  },
  {
   "cell_type": "code",
   "execution_count": null,
   "metadata": {},
   "outputs": [],
   "source": []
  }
 ],
 "metadata": {
  "celltoolbar": "Slideshow",
  "kernelspec": {
   "display_name": "Python 3",
   "language": "python",
   "name": "python3"
  },
  "language_info": {
   "codemirror_mode": {
    "name": "ipython",
    "version": 3
   },
   "file_extension": ".py",
   "mimetype": "text/x-python",
   "name": "python",
   "nbconvert_exporter": "python",
   "pygments_lexer": "ipython3",
   "version": "3.7.1"
  }
 },
 "nbformat": 4,
 "nbformat_minor": 2
}
